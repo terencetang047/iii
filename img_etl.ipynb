{
 "cells": [
  {
   "cell_type": "code",
   "execution_count": 70,
   "metadata": {
    "scrolled": false
   },
   "outputs": [
    {
     "name": "stdout",
     "output_type": "stream",
     "text": [
      "C:\\Users\\Java\n"
     ]
    }
   ],
   "source": [
    "!cd"
   ]
  },
  {
   "cell_type": "code",
   "execution_count": 5,
   "metadata": {},
   "outputs": [
    {
     "name": "stdout",
     "output_type": "stream",
     "text": [
      "http://wallpapers4.hellowallpaper.com/travel_salar-de-uyuni_01-1920x1200.jpg\n"
     ]
    },
    {
     "ename": "OSError",
     "evalue": "[Errno 22] Invalid argument: 'http://wallpapers4.hellowallpaper.com/travel_salar-de-uyuni_01-1920x1200.jpg'",
     "output_type": "error",
     "traceback": [
      "\u001b[1;31m---------------------------------------------------------------------------\u001b[0m",
      "\u001b[1;31mOSError\u001b[0m                                   Traceback (most recent call last)",
      "\u001b[1;32m<ipython-input-5-2a46d9cebdbc>\u001b[0m in \u001b[0;36m<module>\u001b[1;34m()\u001b[0m\n\u001b[0;32m     14\u001b[0m     \u001b[0murl\u001b[0m \u001b[1;33m=\u001b[0m \u001b[1;34m'http://b5.hellowallpaper.com/travel_salar-de-uyuni_'\u001b[0m \u001b[1;33m+\u001b[0m \u001b[0mfname\u001b[0m \u001b[1;33m+\u001b[0m \u001b[1;34m'-1920x1200.jpg'\u001b[0m\u001b[1;33m\u001b[0m\u001b[0m\n\u001b[0;32m     15\u001b[0m     \u001b[0mres1\u001b[0m \u001b[1;33m=\u001b[0m \u001b[0mrequests\u001b[0m\u001b[1;33m.\u001b[0m\u001b[0mget\u001b[0m\u001b[1;33m(\u001b[0m\u001b[0murl\u001b[0m\u001b[1;33m,\u001b[0m\u001b[0mstream\u001b[0m\u001b[1;33m=\u001b[0m\u001b[1;32mTrue\u001b[0m\u001b[1;33m)\u001b[0m\u001b[1;33m\u001b[0m\u001b[0m\n\u001b[1;32m---> 16\u001b[1;33m     \u001b[0mf\u001b[0m \u001b[1;33m=\u001b[0m \u001b[0mopen\u001b[0m\u001b[1;33m(\u001b[0m\u001b[0mfname\u001b[0m\u001b[1;33m,\u001b[0m\u001b[1;34m'wb'\u001b[0m\u001b[1;33m)\u001b[0m\u001b[1;33m\u001b[0m\u001b[0m\n\u001b[0m\u001b[0;32m     17\u001b[0m     \u001b[0mshutil\u001b[0m\u001b[1;33m.\u001b[0m\u001b[0mcopyfileobj\u001b[0m\u001b[1;33m(\u001b[0m\u001b[0mres1\u001b[0m\u001b[1;33m.\u001b[0m\u001b[0mraw\u001b[0m\u001b[1;33m,\u001b[0m\u001b[0mf\u001b[0m\u001b[1;33m)\u001b[0m\u001b[1;33m\u001b[0m\u001b[0m\n\u001b[0;32m     18\u001b[0m     \u001b[0mf\u001b[0m\u001b[1;33m.\u001b[0m\u001b[0mclose\u001b[0m\u001b[1;33m\u001b[0m\u001b[0m\n",
      "\u001b[1;31mOSError\u001b[0m: [Errno 22] Invalid argument: 'http://wallpapers4.hellowallpaper.com/travel_salar-de-uyuni_01-1920x1200.jpg'"
     ]
    }
   ],
   "source": [
    "import requests\n",
    "from bs4 import BeautifulSoup as bs\n",
    "import shutil\n",
    "\n",
    "res = requests.get(\"http://b5.hellowallpaper.com/travel_salar-de-uyuni_01-1920x1200.html\")\n",
    "soup = bs(res.text,'lxml')\n",
    "\n",
    "for img in soup.select('img'):\n",
    "    fname = img['src']\n",
    "#     .split('uyuni_')[1].split('-1920x1200.jpg')[0]\n",
    "    print(fname)\n",
    "#     res2 = requests.get(hr)\n",
    "#     print(imghr)\n",
    "#     url = 'http://b5.hellowallpaper.com/travel_salar-de-uyuni_' + fname + '-1920x1200.jpg'\n",
    "#     res1 = requests.get(url,stream=True)\n",
    "#     f = open(fname,'wb')\n",
    "#     shutil.copyfileobj(res1.raw,f)\n",
    "#     f.close\n",
    "        "
   ]
  },
  {
   "cell_type": "code",
   "execution_count": 54,
   "metadata": {},
   "outputs": [
    {
     "data": {
      "text/plain": [
       "200"
      ]
     },
     "execution_count": 54,
     "metadata": {},
     "output_type": "execute_result"
    }
   ],
   "source": [
    "res2.status_code"
   ]
  },
  {
   "cell_type": "code",
   "execution_count": 68,
   "metadata": {
    "collapsed": true,
    "scrolled": true
   },
   "outputs": [],
   "source": [
    "import requests\n",
    "from bs4 import BeautifulSoup\n",
    "import shutil\n",
    "res = requests.get(\"http://www.gamebase.com.tw/forum/64172/topic/96278769/1\")\n",
    "soup = BeautifulSoup(res.text, \"lxml\")\n",
    "for img in soup.select('.img'):\n",
    "    fname = img['src'] .split('/')[-1]\n",
    "    res2 = requests.get(img['src'], stream=True)\n",
    "    f = open(fname, 'wb')\n",
    "    shutil.copyfileobj(res2.raw, f)\n",
    "    f.close()"
   ]
  },
  {
   "cell_type": "markdown",
   "metadata": {},
   "source": [
    "###成功版本~~~"
   ]
  },
  {
   "cell_type": "code",
   "execution_count": 46,
   "metadata": {
    "collapsed": true
   },
   "outputs": [],
   "source": [
    "import requests\n",
    "from bs4 import BeautifulSoup as bs\n",
    "import shutil\n",
    "\n",
    "res = requests.get(\"http://b5.hellowallpaper.com/travel_salar-de-uyuni_list-1920x1200.html\")\n",
    "soup = bs(res.text,'lxml')\n",
    "# soup.select('#imgsmallwide')\n",
    "\n",
    "for content in soup.select('#imgsmallwide > a'):  #取到'a'tag包住的部分\n",
    "    hr = content['href']  #針對'a'tag內容取出href(key)後面的值(value)(即我要的url)\n",
    "#     print(hr)\n",
    "    var = hr.split('uyuni_')[1]  #擷取url內容頁的變數段落\n",
    "#     print(var)\n",
    "    url = 'http://b5.hellowallpaper.com/travel_salar-de-uyuni_' + var\n",
    "#     print(url)\n",
    "    res1 = requests.get(url)\n",
    "    soup1 = bs(res1.text,'lxml')\n",
    "#     print(soup1)\n",
    "    for img in soup1.select('#main > img'):\n",
    "#         print(img)\n",
    "#         print('=='*25)\n",
    "        fname = img['src'].split('uyuni_')[1]\n",
    "#         print(fname)\n",
    "        res2 = requests.get(img['src'], stream=True)\n",
    "        f = open(fname, 'wb')\n",
    "        shutil.copyfileobj(res2.raw, f)\n",
    "        f.close()\n",
    "        del res2"
   ]
  },
  {
   "cell_type": "code",
   "execution_count": 44,
   "metadata": {},
   "outputs": [
    {
     "data": {
      "text/plain": [
       "str"
      ]
     },
     "execution_count": 44,
     "metadata": {},
     "output_type": "execute_result"
    }
   ],
   "source": [
    "type(fname)"
   ]
  },
  {
   "cell_type": "code",
   "execution_count": null,
   "metadata": {
    "collapsed": true
   },
   "outputs": [],
   "source": []
  }
 ],
 "metadata": {
  "kernelspec": {
   "display_name": "Python 3",
   "language": "python",
   "name": "python3"
  },
  "language_info": {
   "codemirror_mode": {
    "name": "ipython",
    "version": 3
   },
   "file_extension": ".py",
   "mimetype": "text/x-python",
   "name": "python",
   "nbconvert_exporter": "python",
   "pygments_lexer": "ipython3",
   "version": "3.6.1"
  }
 },
 "nbformat": 4,
 "nbformat_minor": 2
}
